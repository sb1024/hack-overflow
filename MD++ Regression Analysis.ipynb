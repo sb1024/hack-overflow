{
 "cells": [
  {
   "cell_type": "code",
   "execution_count": 70,
   "metadata": {},
   "outputs": [],
   "source": [
    "import numpy as np\n",
    "import pandas as pd\n",
    "import matplotlib.pyplot as plt\n",
    "from sklearn import linear_model\n",
    "import tensorflow as tf\n",
    "import keras\n",
    "import seaborn as sns\n",
    "import scipy.stats as stats\n",
    "import statsmodels.api as sm\n",
    "from statsmodels.formula.api import ols"
   ]
  },
  {
   "cell_type": "code",
   "execution_count": 212,
   "metadata": {},
   "outputs": [],
   "source": [
    "#Only use this if you want to read the whole 2016 Core File\n",
    "df_core = pd.read_csv(\"Data16/NIS_2016_Core.csv\")"
   ]
  },
  {
   "cell_type": "code",
   "execution_count": 101,
   "metadata": {},
   "outputs": [],
   "source": [
    "#Read Filtered Data\n",
    "df_new = pd.read_csv(\"results new/NIS_Core_Hospitalized_grouped_cci.csv\")"
   ]
  },
  {
   "cell_type": "code",
   "execution_count": 102,
   "metadata": {},
   "outputs": [],
   "source": [
    "#Save indices where procedures were done\n",
    "ind_val = []\n",
    "for i in range(0, len(df_new[\"i10_pr1\"])):\n",
    "    if isinstance(df_new[\"i10_pr1\"][i], str) == True:\n",
    "        ind_val.append(i)"
   ]
  },
  {
   "cell_type": "code",
   "execution_count": 103,
   "metadata": {},
   "outputs": [],
   "source": [
    "#Dataframe now only has stroke cases where surgery was performed\n",
    "refined_df = df_new.loc[ind_val]\n",
    "refined_df.shape"
   ]
  },
  {
   "cell_type": "code",
   "execution_count": 104,
   "metadata": {},
   "outputs": [],
   "source": [
    "np.array(refined_df.index)"
   ]
  },
  {
   "cell_type": "code",
   "execution_count": 105,
   "metadata": {},
   "outputs": [],
   "source": [
    "#Find days where length of stay is not stored\n",
    "indices_cor = np.where(refined_df['los'] >= 0)[0]\n",
    "\n",
    "indices = np.array(refined_df.index)\n",
    "indices = indices[indices_cor]\n",
    "\n",
    "refined_df = refined_df.loc[indices]"
   ]
  },
  {
   "cell_type": "code",
   "execution_count": 130,
   "metadata": {},
   "outputs": [],
   "source": [
    "#Variables to consider in the ANOVA\n",
    "\n",
    "#Key Independent Variables\n",
    "## Number of Days from Admission to Procedure 1\n",
    "Ad_Pr1 = np.array(refined_df['prday1'])\n",
    "\n",
    "#Key Baseline Variables\n",
    "## Race (classify this as white (1) or non-white(0))\n",
    "race = np.array(refined_df['race'])\n",
    "race[race>1] = 0\n",
    "\n",
    "## Urban-Rural Classification (Categories 1-3 ie places with >250K (1) AND Categories 4-6 ie places with <250K(0))\n",
    "urb = np.array(refined_df['pl_nchs'])\n",
    "urb[urb>3] = 10\n",
    "urb[urb<4] = 1\n",
    "urb[urb==10] = 0\n",
    "\n",
    "## Hospital NIS\n",
    "hnis = refined_df['hosp_nis']\n",
    "\n",
    "##CCI\n",
    "cci = np.array(refined_df['cci'])\n",
    "\n",
    "## Gender\n",
    "gender = np.array(refined_df['female'])\n",
    "\n",
    "## Number of Procedures (continuous var)\n",
    "num_pro = np.array(refined_df['i10_npr'])\n",
    "\n",
    "## Age (continuous var)\n",
    "age = np.array(refined_df['age'])\n",
    "\n",
    "## Primary Payer (Categorical: Medicare vs Everything Else)\n",
    "payer = np.array(refined_df['pay1'])\n",
    "payer[payer>1.5] = 0\n",
    "payer[payer>0.1] = 1 \n",
    "\n",
    "#Key Outcomes Variables\n",
    "## Length of Stay following procedure 1 (los - prday1)\n",
    "los_follow = np.array(refined_df['los'])\n",
    "\n",
    "## Death\n",
    "dead = np.array(refined_df['died'])\n",
    "\n",
    "## Total Charges\n",
    "totchg = np.array(refined_df['totchg'])"
   ]
  },
  {
   "cell_type": "code",
   "execution_count": 131,
   "metadata": {},
   "outputs": [],
   "source": [
    "#Add Hospital Data to refined_df\n",
    "hosp_df = pd.read_csv('Data16/NIS_2016_Hospital.csv')"
   ]
  },
  {
   "cell_type": "code",
   "execution_count": 132,
   "metadata": {},
   "outputs": [],
   "source": [
    "refined_df"
   ]
  },
  {
   "cell_type": "code",
   "execution_count": 133,
   "metadata": {},
   "outputs": [],
   "source": [
    "hosp_nis = list(hosp_df['hosp_nis'])\n",
    "hosp_bed = list(hosp_df['hosp_bedsize'])\n",
    "hosp_teach = list(hosp_df['hosp_locteach'])\n",
    "hosp_contrl = list(hosp_df['h_contrl'])\n",
    "\n",
    "ar_nis = np.array(hnis)\n",
    "\n",
    "ar_bed = []\n",
    "ar_teach = []\n",
    "ar_contrl = []\n",
    "\n",
    "for i in ar_nis:\n",
    "    index = hosp_nis.index(i)\n",
    "    ar_bed.append(hosp_bed[index])\n",
    "    ar_teach.append(hosp_teach[index])\n",
    "    ar_contrl.append(hosp_contrl[index])\n",
    "    \n",
    "refined_df['bedsize'] = ar_bed\n",
    "refined_df['teach'] = ar_teach\n",
    "refined_df['control'] = ar_contrl"
   ]
  },
  {
   "cell_type": "code",
   "execution_count": 134,
   "metadata": {},
   "outputs": [],
   "source": [
    "#Hospital Variables\n",
    "##Bedsize is a categorical variable (small vs medium + big)\n",
    "bedsize = np.array(refined_df['bedsize'])\n",
    "bedsize[bedsize > 1.9] = 0\n",
    "bedsize[bedsize > 0.9] = 1\n",
    "\n",
    "##Teach is a categorical variable with urban/rural distinction but let's treat it as \"Teaching vs Non-Teaching\"\n",
    "teach = np.array(refined_df['teach'])\n",
    "teach[teach < 2.5] = 0\n",
    "teach[teach == 3] = 1\n",
    "\n",
    "##Control is a categorical variable that we will be dividing into governvment vs private\n",
    "control = np.array(refined_df['control'])\n",
    "control[control > 1.1] = 0\n",
    "control[control == 1] = 1"
   ]
  },
  {
   "cell_type": "code",
   "execution_count": 145,
   "metadata": {},
   "outputs": [],
   "source": [
    "#Use num diagnoses and num procedures as well. Also, change stay length to actual stay length and not length between\n",
    "#procedure 1 and discharge date\n",
    "\n",
    "analysis_df = pd.DataFrame()\n",
    "analysis_df['Time to Procedure'] = Ad_Pr1\n",
    "analysis_df['Race'] = race\n",
    "analysis_df['Urban'] = urb\n",
    "analysis_df['Gender'] = gender\n",
    "analysis_df['Age'] = age\n",
    "analysis_df['Payer Type'] = payer\n",
    "analysis_df['Length of Stay'] = los_follow\n",
    "analysis_df['Death'] = dead\n",
    "analysis_df['Charges'] = totchg\n",
    "analysis_df['Hospital Bedsize'] = bedsize\n",
    "analysis_df['Teaching'] = teach\n",
    "analysis_df['CCI'] = cci\n",
    "analysis_df['Control'] = control"
   ]
  },
  {
   "cell_type": "code",
   "execution_count": 147,
   "metadata": {},
   "outputs": [],
   "source": [
    "analysis_df.fillna(analysis_df.mean(), inplace=True)\n",
    "\n",
    "X = analysis_df[['Race','Urban','Gender','Age','Payer Type','Time to Procedure','Hospital Bedsize','Teaching','Control','CCI']]\n",
    "y = analysis_df['Length of Stay']"
   ]
  },
  {
   "cell_type": "code",
   "execution_count": 148,
   "metadata": {},
   "outputs": [],
   "source": [
    "analysis_df.to_csv(\"analysis_df.csv\", index=False)"
   ]
  },
  {
   "cell_type": "code",
   "execution_count": 163,
   "metadata": {},
   "outputs": [],
   "source": [
    "from stargazer.stargazer import Stargazer\n",
    "from pystout import pystout"
   ]
  },
  {
   "cell_type": "code",
   "execution_count": 165,
   "metadata": {},
   "outputs": [],
   "source": [
    "pystout(models=[model],\n",
    "       file='A.tex')"
   ]
  },
  {
   "cell_type": "code",
   "execution_count": 173,
   "metadata": {},
   "outputs": [],
   "source": [
    "from statsmodels.api import OLS\n",
    "model = OLS(y,X).fit()\n",
    "print(model.summary())"
   ]
  },
  {
   "cell_type": "code",
   "execution_count": 156,
   "metadata": {},
   "outputs": [],
   "source": [
    "y_pred = model.predict(X)\n",
    "plt.scatter(y, y_pred, marker = '.', s = 1)\n",
    "plt.plot(range(1,90), range(1, 90), color = 'red')\n",
    "plt.xlim([0,100])\n",
    "plt.ylim([0,100])\n",
    "plt.xlabel(\"Length of Stay\")\n",
    "plt.ylabel(\"Length of Stay Predictions\")\n",
    "plt.show()"
   ]
  },
  {
   "cell_type": "code",
   "execution_count": 198,
   "metadata": {},
   "outputs": [],
   "source": [
    "len(A)"
   ]
  },
  {
   "cell_type": "code",
   "execution_count": 197,
   "metadata": {},
   "outputs": [],
   "source": [
    "a = 0\n",
    "for i in A:\n",
    "    if i in B:\n",
    "        a = a + 1\n",
    "a"
   ]
  },
  {
   "cell_type": "code",
   "execution_count": 192,
   "metadata": {},
   "outputs": [],
   "source": [
    "def intersection(lst1, lst2):\n",
    "    return list(set(lst1) & set(lst2))\n",
    "intersection(A, B)"
   ]
  },
  {
   "cell_type": "code",
   "execution_count": 126,
   "metadata": {},
   "outputs": [],
   "source": [
    "len(newdf['i10_pr1'])"
   ]
  },
  {
   "cell_type": "code",
   "execution_count": 166,
   "metadata": {},
   "outputs": [],
   "source": [
    "a = 0\n",
    "for i in range(0, len(list(newdf['i10_pr1']))):\n",
    "    if type(list(newdf['i10_pr1'])[i])==str:\n",
    "        a = a + 1"
   ]
  },
  {
   "cell_type": "code",
   "execution_count": 172,
   "metadata": {},
   "outputs": [],
   "source": [
    "newdf.head(4)['i10_dx1']"
   ]
  },
  {
   "cell_type": "code",
   "execution_count": 160,
   "metadata": {},
   "outputs": [],
   "source": [
    "#np.isnan(np.array(list(newdf['i10_pr1'])[0]))\n",
    "list()"
   ]
  },
  {
   "cell_type": "code",
   "execution_count": 120,
   "metadata": {},
   "outputs": [],
   "source": [
    "np.where(df_core['i10_dx1'].str[0:4] == 'S320')[0]"
   ]
  },
  {
   "cell_type": "code",
   "execution_count": 94,
   "metadata": {},
   "outputs": [],
   "source": [
    "for i in range(0, 30):\n",
    "    print(len(np.where(df_new[df_new.columns[18:48][i]]=='Z9282')[0]))"
   ]
  },
  {
   "cell_type": "code",
   "execution_count": 51,
   "metadata": {},
   "outputs": [],
   "source": [
    "df_new.columns[55:71]"
   ]
  },
  {
   "cell_type": "code",
   "execution_count": 57,
   "metadata": {},
   "outputs": [],
   "source": [
    "df_new['age']"
   ]
  },
  {
   "cell_type": "code",
   "execution_count": 53,
   "metadata": {},
   "outputs": [],
   "source": [
    "CT_use = []\n",
    "for i in df_core.columns[55:71]:\n",
    "    CT_use.append(len(np.where(df_core[i] == \"B020ZZZ\")[0]))\n",
    "sum(CT_use)"
   ]
  },
  {
   "cell_type": "code",
   "execution_count": 54,
   "metadata": {},
   "outputs": [],
   "source": [
    "MRI_use = []\n",
    "for i in df_core.columns[54:69]:\n",
    "    MRI_use.append(len(np.where(df_core[i] == \"B030ZZZ\")[0]))\n",
    "sum(MRI_use)"
   ]
  },
  {
   "cell_type": "code",
   "execution_count": 65,
   "metadata": {},
   "outputs": [],
   "source": [
    "charges = []\n",
    "for i in range(0, len(np.unique(df_core[\"i10_npr\"]))):\n",
    "    charges.append(np.mean(df_core[\"totchg\"].where(df_core[\"i10_npr\"] == i)))"
   ]
  },
  {
   "cell_type": "code",
   "execution_count": 70,
   "metadata": {},
   "outputs": [],
   "source": [
    "plt.scatter([ 0,  1,  2,  3,  4,  5,  6,  7,  8,  9, 10, 11, 12, 13, 14, 15], charges)"
   ]
  },
  {
   "cell_type": "code",
   "execution_count": 13,
   "metadata": {},
   "outputs": [],
   "source": [
    "lol = df_core.head(50000)\n",
    "lol[\"i10_dx10\"]"
   ]
  }
 ],
 "metadata": {
  "kernelspec": {
   "display_name": "Python 3",
   "language": "python",
   "name": "python3"
  },
  "language_info": {
   "codemirror_mode": {
    "name": "ipython",
    "version": 3
   },
   "file_extension": ".py",
   "mimetype": "text/x-python",
   "name": "python",
   "nbconvert_exporter": "python",
   "pygments_lexer": "ipython3",
   "version": "3.7.7"
  }
 },
 "nbformat": 4,
 "nbformat_minor": 4
}
